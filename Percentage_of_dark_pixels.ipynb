{
 "cells": [
  {
   "cell_type": "code",
   "execution_count": 1,
   "id": "7f442301",
   "metadata": {},
   "outputs": [],
   "source": [
    "import cv2\n",
    "import numpy as np\n",
    "from ipywidgets import widgets\n",
    "import matplotlib.pyplot as plt\n",
    "from IPython.display import display\n",
    "from utils import select_file, convert_to_gray, setup_widgets"
   ]
  },
  {
   "cell_type": "markdown",
   "id": "749d73c8",
   "metadata": {},
   "source": [
    "### Select the threshold at which the zones of interest are colored."
   ]
  },
  {
   "cell_type": "code",
   "execution_count": 10,
   "id": "ccee05ff",
   "metadata": {},
   "outputs": [
    {
     "data": {
      "application/vnd.jupyter.widget-view+json": {
       "model_id": "61a61525df384476ad622fabc53f6fc9",
       "version_major": 2,
       "version_minor": 0
      },
      "text/plain": [
       "HBox(children=(FloatText(value=127.0),))"
      ]
     },
     "metadata": {},
     "output_type": "display_data"
    },
    {
     "data": {
      "application/vnd.jupyter.widget-view+json": {
       "model_id": "46029a46643d4c29b450150241f1fd16",
       "version_major": 2,
       "version_minor": 0
      },
      "text/plain": [
       "interactive(children=(IntSlider(value=127, continuous_update=False, description='threshold', max=255), Output(…"
      ]
     },
     "metadata": {},
     "output_type": "display_data"
    }
   ],
   "source": [
    "file_path, image = select_file()\n",
    "gray_image = convert_to_gray(image)\n",
    "setup_widgets(image, gray_image, file_path)"
   ]
  },
  {
   "cell_type": "code",
   "execution_count": null,
   "id": "073b65bf",
   "metadata": {},
   "outputs": [],
   "source": []
  }
 ],
 "metadata": {
  "kernelspec": {
   "display_name": "Python 3 (ipykernel)",
   "language": "python",
   "name": "python3"
  },
  "language_info": {
   "codemirror_mode": {
    "name": "ipython",
    "version": 3
   },
   "file_extension": ".py",
   "mimetype": "text/x-python",
   "name": "python",
   "nbconvert_exporter": "python",
   "pygments_lexer": "ipython3",
   "version": "3.11.5"
  }
 },
 "nbformat": 4,
 "nbformat_minor": 5
}
